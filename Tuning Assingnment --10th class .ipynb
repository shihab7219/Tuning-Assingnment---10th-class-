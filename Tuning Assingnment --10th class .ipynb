{
 "cells": [
  {
   "cell_type": "code",
   "execution_count": 94,
   "id": "14e013d8",
   "metadata": {},
   "outputs": [],
   "source": [
    "import pandas as pd\n",
    "import seaborn as ans \n",
    "import numpy as np"
   ]
  },
  {
   "cell_type": "code",
   "execution_count": 95,
   "id": "993f2207",
   "metadata": {},
   "outputs": [],
   "source": [
    "data = pd.read_csv(\"heart failure.csv\")"
   ]
  },
  {
   "cell_type": "code",
   "execution_count": 96,
   "id": "57c9ad78",
   "metadata": {},
   "outputs": [
    {
     "name": "stdout",
     "output_type": "stream",
     "text": [
      "<class 'pandas.core.frame.DataFrame'>\n",
      "RangeIndex: 299 entries, 0 to 298\n",
      "Data columns (total 13 columns):\n",
      " #   Column                    Non-Null Count  Dtype  \n",
      "---  ------                    --------------  -----  \n",
      " 0   age                       299 non-null    float64\n",
      " 1   anaemia                   299 non-null    int64  \n",
      " 2   creatinine_phosphokinase  299 non-null    int64  \n",
      " 3   diabetes                  299 non-null    int64  \n",
      " 4   ejection_fraction         299 non-null    int64  \n",
      " 5   high_blood_pressure       299 non-null    int64  \n",
      " 6   platelets                 299 non-null    float64\n",
      " 7   serum_creatinine          299 non-null    float64\n",
      " 8   serum_sodium              299 non-null    int64  \n",
      " 9   sex                       299 non-null    int64  \n",
      " 10  smoking                   299 non-null    int64  \n",
      " 11  time                      299 non-null    int64  \n",
      " 12  DEATH_EVENT               299 non-null    int64  \n",
      "dtypes: float64(3), int64(10)\n",
      "memory usage: 30.5 KB\n"
     ]
    }
   ],
   "source": [
    "data.info()"
   ]
  },
  {
   "cell_type": "code",
   "execution_count": 97,
   "id": "4e249ea0",
   "metadata": {},
   "outputs": [
    {
     "data": {
      "text/plain": [
       "age                         0\n",
       "anaemia                     0\n",
       "creatinine_phosphokinase    0\n",
       "diabetes                    0\n",
       "ejection_fraction           0\n",
       "high_blood_pressure         0\n",
       "platelets                   0\n",
       "serum_creatinine            0\n",
       "serum_sodium                0\n",
       "sex                         0\n",
       "smoking                     0\n",
       "time                        0\n",
       "DEATH_EVENT                 0\n",
       "dtype: int64"
      ]
     },
     "execution_count": 97,
     "metadata": {},
     "output_type": "execute_result"
    }
   ],
   "source": [
    "data.isnull().sum()"
   ]
  },
  {
   "cell_type": "code",
   "execution_count": 98,
   "id": "310a78d1",
   "metadata": {},
   "outputs": [
    {
     "data": {
      "text/html": [
       "<div>\n",
       "<style scoped>\n",
       "    .dataframe tbody tr th:only-of-type {\n",
       "        vertical-align: middle;\n",
       "    }\n",
       "\n",
       "    .dataframe tbody tr th {\n",
       "        vertical-align: top;\n",
       "    }\n",
       "\n",
       "    .dataframe thead th {\n",
       "        text-align: right;\n",
       "    }\n",
       "</style>\n",
       "<table border=\"1\" class=\"dataframe\">\n",
       "  <thead>\n",
       "    <tr style=\"text-align: right;\">\n",
       "      <th></th>\n",
       "      <th>age</th>\n",
       "      <th>anaemia</th>\n",
       "      <th>creatinine_phosphokinase</th>\n",
       "      <th>diabetes</th>\n",
       "      <th>ejection_fraction</th>\n",
       "      <th>high_blood_pressure</th>\n",
       "      <th>platelets</th>\n",
       "      <th>serum_creatinine</th>\n",
       "      <th>serum_sodium</th>\n",
       "      <th>sex</th>\n",
       "      <th>smoking</th>\n",
       "      <th>time</th>\n",
       "      <th>DEATH_EVENT</th>\n",
       "    </tr>\n",
       "  </thead>\n",
       "  <tbody>\n",
       "    <tr>\n",
       "      <th>0</th>\n",
       "      <td>75.0</td>\n",
       "      <td>0</td>\n",
       "      <td>582</td>\n",
       "      <td>0</td>\n",
       "      <td>20</td>\n",
       "      <td>1</td>\n",
       "      <td>265000.00</td>\n",
       "      <td>1.9</td>\n",
       "      <td>130</td>\n",
       "      <td>1</td>\n",
       "      <td>0</td>\n",
       "      <td>4</td>\n",
       "      <td>1</td>\n",
       "    </tr>\n",
       "    <tr>\n",
       "      <th>1</th>\n",
       "      <td>55.0</td>\n",
       "      <td>0</td>\n",
       "      <td>7861</td>\n",
       "      <td>0</td>\n",
       "      <td>38</td>\n",
       "      <td>0</td>\n",
       "      <td>263358.03</td>\n",
       "      <td>1.1</td>\n",
       "      <td>136</td>\n",
       "      <td>1</td>\n",
       "      <td>0</td>\n",
       "      <td>6</td>\n",
       "      <td>1</td>\n",
       "    </tr>\n",
       "    <tr>\n",
       "      <th>2</th>\n",
       "      <td>65.0</td>\n",
       "      <td>0</td>\n",
       "      <td>146</td>\n",
       "      <td>0</td>\n",
       "      <td>20</td>\n",
       "      <td>0</td>\n",
       "      <td>162000.00</td>\n",
       "      <td>1.3</td>\n",
       "      <td>129</td>\n",
       "      <td>1</td>\n",
       "      <td>1</td>\n",
       "      <td>7</td>\n",
       "      <td>1</td>\n",
       "    </tr>\n",
       "    <tr>\n",
       "      <th>3</th>\n",
       "      <td>50.0</td>\n",
       "      <td>1</td>\n",
       "      <td>111</td>\n",
       "      <td>0</td>\n",
       "      <td>20</td>\n",
       "      <td>0</td>\n",
       "      <td>210000.00</td>\n",
       "      <td>1.9</td>\n",
       "      <td>137</td>\n",
       "      <td>1</td>\n",
       "      <td>0</td>\n",
       "      <td>7</td>\n",
       "      <td>1</td>\n",
       "    </tr>\n",
       "    <tr>\n",
       "      <th>4</th>\n",
       "      <td>65.0</td>\n",
       "      <td>1</td>\n",
       "      <td>160</td>\n",
       "      <td>1</td>\n",
       "      <td>20</td>\n",
       "      <td>0</td>\n",
       "      <td>327000.00</td>\n",
       "      <td>2.7</td>\n",
       "      <td>116</td>\n",
       "      <td>0</td>\n",
       "      <td>0</td>\n",
       "      <td>8</td>\n",
       "      <td>1</td>\n",
       "    </tr>\n",
       "  </tbody>\n",
       "</table>\n",
       "</div>"
      ],
      "text/plain": [
       "    age  anaemia  creatinine_phosphokinase  diabetes  ejection_fraction  \\\n",
       "0  75.0        0                       582         0                 20   \n",
       "1  55.0        0                      7861         0                 38   \n",
       "2  65.0        0                       146         0                 20   \n",
       "3  50.0        1                       111         0                 20   \n",
       "4  65.0        1                       160         1                 20   \n",
       "\n",
       "   high_blood_pressure  platelets  serum_creatinine  serum_sodium  sex  \\\n",
       "0                    1  265000.00               1.9           130    1   \n",
       "1                    0  263358.03               1.1           136    1   \n",
       "2                    0  162000.00               1.3           129    1   \n",
       "3                    0  210000.00               1.9           137    1   \n",
       "4                    0  327000.00               2.7           116    0   \n",
       "\n",
       "   smoking  time  DEATH_EVENT  \n",
       "0        0     4            1  \n",
       "1        0     6            1  \n",
       "2        1     7            1  \n",
       "3        0     7            1  \n",
       "4        0     8            1  "
      ]
     },
     "execution_count": 98,
     "metadata": {},
     "output_type": "execute_result"
    }
   ],
   "source": [
    "data.head()"
   ]
  },
  {
   "cell_type": "code",
   "execution_count": 99,
   "id": "96b99c6c",
   "metadata": {},
   "outputs": [],
   "source": [
    "data = data.rename({\"DEATH_EVENT\": \"death\"},axis = 1)"
   ]
  },
  {
   "cell_type": "code",
   "execution_count": 100,
   "id": "26aa6945",
   "metadata": {},
   "outputs": [
    {
     "data": {
      "text/plain": [
       "0    1\n",
       "1    1\n",
       "2    1\n",
       "3    1\n",
       "4    1\n",
       "Name: death, dtype: int64"
      ]
     },
     "execution_count": 100,
     "metadata": {},
     "output_type": "execute_result"
    }
   ],
   "source": [
    "data.death.head()"
   ]
  },
  {
   "cell_type": "markdown",
   "id": "6e4a11e9",
   "metadata": {},
   "source": [
    "# Seperate x and y"
   ]
  },
  {
   "cell_type": "code",
   "execution_count": 101,
   "id": "5337babf",
   "metadata": {},
   "outputs": [],
   "source": [
    "x = data.drop(\"death\",axis = 1)\n",
    "y = data.death"
   ]
  },
  {
   "cell_type": "markdown",
   "id": "0598b3c6",
   "metadata": {},
   "source": [
    "# Train and Testing data --- Apply K Neighbors Classifier"
   ]
  },
  {
   "cell_type": "code",
   "execution_count": 102,
   "id": "2a18b13d",
   "metadata": {},
   "outputs": [],
   "source": [
    "from sklearn.model_selection import train_test_split as tts\n",
    "from sklearn.neighbors import KNeighborsClassifier"
   ]
  },
  {
   "cell_type": "code",
   "execution_count": 103,
   "id": "8abd8528",
   "metadata": {},
   "outputs": [],
   "source": [
    "xtrain,xtest,ytrain,ytest = tts(x,y,test_size = .30 ,random_state = 1)"
   ]
  },
  {
   "cell_type": "code",
   "execution_count": 187,
   "id": "34d2573d",
   "metadata": {},
   "outputs": [
    {
     "data": {
      "text/plain": [
       "KNeighborsClassifier()"
      ]
     },
     "execution_count": 187,
     "metadata": {},
     "output_type": "execute_result"
    }
   ],
   "source": [
    "KNC = KNeighborsClassifier()\n",
    "KNC.fit(xtrain,ytrain)"
   ]
  },
  {
   "cell_type": "code",
   "execution_count": null,
   "id": "bcca56a8",
   "metadata": {},
   "outputs": [],
   "source": [
    "KNC.predict(xtest)"
   ]
  },
  {
   "cell_type": "code",
   "execution_count": null,
   "id": "e830f5cc",
   "metadata": {},
   "outputs": [],
   "source": [
    "data[\"Predicted Death\"] = KNC.predict(x)"
   ]
  },
  {
   "cell_type": "code",
   "execution_count": null,
   "id": "8d0311d5",
   "metadata": {},
   "outputs": [],
   "source": [
    "data.head()"
   ]
  },
  {
   "cell_type": "markdown",
   "id": "bf3fb3e9",
   "metadata": {},
   "source": [
    "# Evaluate KNeighborsClassifier Model Score before Tuning"
   ]
  },
  {
   "cell_type": "code",
   "execution_count": 188,
   "id": "55dfa788",
   "metadata": {},
   "outputs": [
    {
     "data": {
      "text/plain": [
       "0.6111111111111112"
      ]
     },
     "execution_count": 188,
     "metadata": {},
     "output_type": "execute_result"
    }
   ],
   "source": [
    "KNC.score(xtest,ytest)"
   ]
  },
  {
   "cell_type": "markdown",
   "id": "e6657b20",
   "metadata": {},
   "source": [
    "# Tuning KNeighborsClassifier using Randomized Search CV"
   ]
  },
  {
   "cell_type": "code",
   "execution_count": 120,
   "id": "f4e37e02",
   "metadata": {},
   "outputs": [],
   "source": [
    "from sklearn.model_selection import RandomizedSearchCV\n",
    "\n",
    "n_neighbors = [int(item) for item in np.linspace(10,100,25)]\n",
    "weight = ['uniform', 'distance']\n",
    "algorithm = ['auto', 'ball_tree', 'kd_tree', 'brute']"
   ]
  },
  {
   "cell_type": "code",
   "execution_count": 121,
   "id": "b6212573",
   "metadata": {},
   "outputs": [],
   "source": [
    "parameters = {\n",
    "    \"n_neighbors\":n_neighbors,\n",
    "    \"weights\" : weight ,\n",
    "    \"algorithm\": algorithm\n",
    "    }"
   ]
  },
  {
   "cell_type": "code",
   "execution_count": 122,
   "id": "bcb48288",
   "metadata": {},
   "outputs": [],
   "source": [
    "rscv = RandomizedSearchCV(KNC,parameters,n_iter=200, cv = 4)"
   ]
  },
  {
   "cell_type": "code",
   "execution_count": 123,
   "id": "4a03316d",
   "metadata": {},
   "outputs": [
    {
     "data": {
      "text/plain": [
       "RandomizedSearchCV(cv=4, estimator=KNeighborsClassifier(), n_iter=200,\n",
       "                   param_distributions={'algorithm': ['auto', 'ball_tree',\n",
       "                                                      'kd_tree', 'brute'],\n",
       "                                        'n_neighbors': [10, 13, 17, 21, 25, 28,\n",
       "                                                        32, 36, 40, 43, 47, 51,\n",
       "                                                        55, 58, 62, 66, 70, 73,\n",
       "                                                        77, 81, 85, 88, 92, 96,\n",
       "                                                        100],\n",
       "                                        'weights': ['uniform', 'distance']})"
      ]
     },
     "execution_count": 123,
     "metadata": {},
     "output_type": "execute_result"
    }
   ],
   "source": [
    "rscv.fit(xtrain,ytrain)"
   ]
  },
  {
   "cell_type": "code",
   "execution_count": 124,
   "id": "ebb8d6ef",
   "metadata": {},
   "outputs": [],
   "source": [
    "result = pd.DataFrame(rscv.cv_results_)"
   ]
  },
  {
   "cell_type": "code",
   "execution_count": 125,
   "id": "3f452839",
   "metadata": {
    "scrolled": true
   },
   "outputs": [
    {
     "data": {
      "text/html": [
       "<div>\n",
       "<style scoped>\n",
       "    .dataframe tbody tr th:only-of-type {\n",
       "        vertical-align: middle;\n",
       "    }\n",
       "\n",
       "    .dataframe tbody tr th {\n",
       "        vertical-align: top;\n",
       "    }\n",
       "\n",
       "    .dataframe thead th {\n",
       "        text-align: right;\n",
       "    }\n",
       "</style>\n",
       "<table border=\"1\" class=\"dataframe\">\n",
       "  <thead>\n",
       "    <tr style=\"text-align: right;\">\n",
       "      <th></th>\n",
       "      <th>mean_fit_time</th>\n",
       "      <th>std_fit_time</th>\n",
       "      <th>mean_score_time</th>\n",
       "      <th>std_score_time</th>\n",
       "      <th>param_weights</th>\n",
       "      <th>param_n_neighbors</th>\n",
       "      <th>param_algorithm</th>\n",
       "      <th>params</th>\n",
       "      <th>split0_test_score</th>\n",
       "      <th>split1_test_score</th>\n",
       "      <th>split2_test_score</th>\n",
       "      <th>split3_test_score</th>\n",
       "      <th>mean_test_score</th>\n",
       "      <th>std_test_score</th>\n",
       "      <th>rank_test_score</th>\n",
       "    </tr>\n",
       "  </thead>\n",
       "  <tbody>\n",
       "    <tr>\n",
       "      <th>0</th>\n",
       "      <td>0.001245</td>\n",
       "      <td>4.361819e-04</td>\n",
       "      <td>0.002000</td>\n",
       "      <td>2.665601e-07</td>\n",
       "      <td>uniform</td>\n",
       "      <td>10</td>\n",
       "      <td>auto</td>\n",
       "      <td>{'weights': 'uniform', 'n_neighbors': 10, 'alg...</td>\n",
       "      <td>0.660377</td>\n",
       "      <td>0.634615</td>\n",
       "      <td>0.653846</td>\n",
       "      <td>0.596154</td>\n",
       "      <td>0.636248</td>\n",
       "      <td>0.025011</td>\n",
       "      <td>185</td>\n",
       "    </tr>\n",
       "    <tr>\n",
       "      <th>1</th>\n",
       "      <td>0.001126</td>\n",
       "      <td>2.182457e-04</td>\n",
       "      <td>0.001126</td>\n",
       "      <td>2.182801e-04</td>\n",
       "      <td>distance</td>\n",
       "      <td>10</td>\n",
       "      <td>auto</td>\n",
       "      <td>{'weights': 'distance', 'n_neighbors': 10, 'al...</td>\n",
       "      <td>0.641509</td>\n",
       "      <td>0.711538</td>\n",
       "      <td>0.557692</td>\n",
       "      <td>0.615385</td>\n",
       "      <td>0.631531</td>\n",
       "      <td>0.055258</td>\n",
       "      <td>193</td>\n",
       "    </tr>\n",
       "    <tr>\n",
       "      <th>2</th>\n",
       "      <td>0.001000</td>\n",
       "      <td>0.000000e+00</td>\n",
       "      <td>0.002001</td>\n",
       "      <td>1.976862e-07</td>\n",
       "      <td>uniform</td>\n",
       "      <td>13</td>\n",
       "      <td>auto</td>\n",
       "      <td>{'weights': 'uniform', 'n_neighbors': 13, 'alg...</td>\n",
       "      <td>0.641509</td>\n",
       "      <td>0.634615</td>\n",
       "      <td>0.634615</td>\n",
       "      <td>0.615385</td>\n",
       "      <td>0.631531</td>\n",
       "      <td>0.009738</td>\n",
       "      <td>193</td>\n",
       "    </tr>\n",
       "    <tr>\n",
       "      <th>3</th>\n",
       "      <td>0.001250</td>\n",
       "      <td>4.330502e-04</td>\n",
       "      <td>0.001250</td>\n",
       "      <td>4.330158e-04</td>\n",
       "      <td>distance</td>\n",
       "      <td>13</td>\n",
       "      <td>auto</td>\n",
       "      <td>{'weights': 'distance', 'n_neighbors': 13, 'al...</td>\n",
       "      <td>0.641509</td>\n",
       "      <td>0.692308</td>\n",
       "      <td>0.576923</td>\n",
       "      <td>0.634615</td>\n",
       "      <td>0.636339</td>\n",
       "      <td>0.040904</td>\n",
       "      <td>181</td>\n",
       "    </tr>\n",
       "    <tr>\n",
       "      <th>4</th>\n",
       "      <td>0.001000</td>\n",
       "      <td>0.000000e+00</td>\n",
       "      <td>0.002001</td>\n",
       "      <td>1.032383e-07</td>\n",
       "      <td>uniform</td>\n",
       "      <td>17</td>\n",
       "      <td>auto</td>\n",
       "      <td>{'weights': 'uniform', 'n_neighbors': 17, 'alg...</td>\n",
       "      <td>0.660377</td>\n",
       "      <td>0.634615</td>\n",
       "      <td>0.711538</td>\n",
       "      <td>0.596154</td>\n",
       "      <td>0.650671</td>\n",
       "      <td>0.041919</td>\n",
       "      <td>113</td>\n",
       "    </tr>\n",
       "    <tr>\n",
       "      <th>...</th>\n",
       "      <td>...</td>\n",
       "      <td>...</td>\n",
       "      <td>...</td>\n",
       "      <td>...</td>\n",
       "      <td>...</td>\n",
       "      <td>...</td>\n",
       "      <td>...</td>\n",
       "      <td>...</td>\n",
       "      <td>...</td>\n",
       "      <td>...</td>\n",
       "      <td>...</td>\n",
       "      <td>...</td>\n",
       "      <td>...</td>\n",
       "      <td>...</td>\n",
       "      <td>...</td>\n",
       "    </tr>\n",
       "    <tr>\n",
       "      <th>195</th>\n",
       "      <td>0.001000</td>\n",
       "      <td>1.032383e-07</td>\n",
       "      <td>0.001250</td>\n",
       "      <td>4.330502e-04</td>\n",
       "      <td>distance</td>\n",
       "      <td>92</td>\n",
       "      <td>brute</td>\n",
       "      <td>{'weights': 'distance', 'n_neighbors': 92, 'al...</td>\n",
       "      <td>0.622642</td>\n",
       "      <td>0.711538</td>\n",
       "      <td>0.576923</td>\n",
       "      <td>0.653846</td>\n",
       "      <td>0.641237</td>\n",
       "      <td>0.048947</td>\n",
       "      <td>149</td>\n",
       "    </tr>\n",
       "    <tr>\n",
       "      <th>196</th>\n",
       "      <td>0.001000</td>\n",
       "      <td>1.032383e-07</td>\n",
       "      <td>0.001750</td>\n",
       "      <td>4.330502e-04</td>\n",
       "      <td>uniform</td>\n",
       "      <td>96</td>\n",
       "      <td>brute</td>\n",
       "      <td>{'weights': 'uniform', 'n_neighbors': 96, 'alg...</td>\n",
       "      <td>0.660377</td>\n",
       "      <td>0.673077</td>\n",
       "      <td>0.673077</td>\n",
       "      <td>0.653846</td>\n",
       "      <td>0.665094</td>\n",
       "      <td>0.008310</td>\n",
       "      <td>5</td>\n",
       "    </tr>\n",
       "    <tr>\n",
       "      <th>197</th>\n",
       "      <td>0.001000</td>\n",
       "      <td>1.192093e-07</td>\n",
       "      <td>0.001000</td>\n",
       "      <td>1.032383e-07</td>\n",
       "      <td>distance</td>\n",
       "      <td>96</td>\n",
       "      <td>brute</td>\n",
       "      <td>{'weights': 'distance', 'n_neighbors': 96, 'al...</td>\n",
       "      <td>0.622642</td>\n",
       "      <td>0.711538</td>\n",
       "      <td>0.576923</td>\n",
       "      <td>0.653846</td>\n",
       "      <td>0.641237</td>\n",
       "      <td>0.048947</td>\n",
       "      <td>149</td>\n",
       "    </tr>\n",
       "    <tr>\n",
       "      <th>198</th>\n",
       "      <td>0.000750</td>\n",
       "      <td>4.331534e-04</td>\n",
       "      <td>0.001750</td>\n",
       "      <td>4.331190e-04</td>\n",
       "      <td>uniform</td>\n",
       "      <td>100</td>\n",
       "      <td>brute</td>\n",
       "      <td>{'weights': 'uniform', 'n_neighbors': 100, 'al...</td>\n",
       "      <td>0.660377</td>\n",
       "      <td>0.673077</td>\n",
       "      <td>0.673077</td>\n",
       "      <td>0.653846</td>\n",
       "      <td>0.665094</td>\n",
       "      <td>0.008310</td>\n",
       "      <td>5</td>\n",
       "    </tr>\n",
       "    <tr>\n",
       "      <th>199</th>\n",
       "      <td>0.001000</td>\n",
       "      <td>1.192093e-07</td>\n",
       "      <td>0.001000</td>\n",
       "      <td>0.000000e+00</td>\n",
       "      <td>distance</td>\n",
       "      <td>100</td>\n",
       "      <td>brute</td>\n",
       "      <td>{'weights': 'distance', 'n_neighbors': 100, 'a...</td>\n",
       "      <td>0.622642</td>\n",
       "      <td>0.711538</td>\n",
       "      <td>0.576923</td>\n",
       "      <td>0.653846</td>\n",
       "      <td>0.641237</td>\n",
       "      <td>0.048947</td>\n",
       "      <td>149</td>\n",
       "    </tr>\n",
       "  </tbody>\n",
       "</table>\n",
       "<p>200 rows × 15 columns</p>\n",
       "</div>"
      ],
      "text/plain": [
       "     mean_fit_time  std_fit_time  mean_score_time  std_score_time  \\\n",
       "0         0.001245  4.361819e-04         0.002000    2.665601e-07   \n",
       "1         0.001126  2.182457e-04         0.001126    2.182801e-04   \n",
       "2         0.001000  0.000000e+00         0.002001    1.976862e-07   \n",
       "3         0.001250  4.330502e-04         0.001250    4.330158e-04   \n",
       "4         0.001000  0.000000e+00         0.002001    1.032383e-07   \n",
       "..             ...           ...              ...             ...   \n",
       "195       0.001000  1.032383e-07         0.001250    4.330502e-04   \n",
       "196       0.001000  1.032383e-07         0.001750    4.330502e-04   \n",
       "197       0.001000  1.192093e-07         0.001000    1.032383e-07   \n",
       "198       0.000750  4.331534e-04         0.001750    4.331190e-04   \n",
       "199       0.001000  1.192093e-07         0.001000    0.000000e+00   \n",
       "\n",
       "    param_weights param_n_neighbors param_algorithm  \\\n",
       "0         uniform                10            auto   \n",
       "1        distance                10            auto   \n",
       "2         uniform                13            auto   \n",
       "3        distance                13            auto   \n",
       "4         uniform                17            auto   \n",
       "..            ...               ...             ...   \n",
       "195      distance                92           brute   \n",
       "196       uniform                96           brute   \n",
       "197      distance                96           brute   \n",
       "198       uniform               100           brute   \n",
       "199      distance               100           brute   \n",
       "\n",
       "                                                params  split0_test_score  \\\n",
       "0    {'weights': 'uniform', 'n_neighbors': 10, 'alg...           0.660377   \n",
       "1    {'weights': 'distance', 'n_neighbors': 10, 'al...           0.641509   \n",
       "2    {'weights': 'uniform', 'n_neighbors': 13, 'alg...           0.641509   \n",
       "3    {'weights': 'distance', 'n_neighbors': 13, 'al...           0.641509   \n",
       "4    {'weights': 'uniform', 'n_neighbors': 17, 'alg...           0.660377   \n",
       "..                                                 ...                ...   \n",
       "195  {'weights': 'distance', 'n_neighbors': 92, 'al...           0.622642   \n",
       "196  {'weights': 'uniform', 'n_neighbors': 96, 'alg...           0.660377   \n",
       "197  {'weights': 'distance', 'n_neighbors': 96, 'al...           0.622642   \n",
       "198  {'weights': 'uniform', 'n_neighbors': 100, 'al...           0.660377   \n",
       "199  {'weights': 'distance', 'n_neighbors': 100, 'a...           0.622642   \n",
       "\n",
       "     split1_test_score  split2_test_score  split3_test_score  mean_test_score  \\\n",
       "0             0.634615           0.653846           0.596154         0.636248   \n",
       "1             0.711538           0.557692           0.615385         0.631531   \n",
       "2             0.634615           0.634615           0.615385         0.631531   \n",
       "3             0.692308           0.576923           0.634615         0.636339   \n",
       "4             0.634615           0.711538           0.596154         0.650671   \n",
       "..                 ...                ...                ...              ...   \n",
       "195           0.711538           0.576923           0.653846         0.641237   \n",
       "196           0.673077           0.673077           0.653846         0.665094   \n",
       "197           0.711538           0.576923           0.653846         0.641237   \n",
       "198           0.673077           0.673077           0.653846         0.665094   \n",
       "199           0.711538           0.576923           0.653846         0.641237   \n",
       "\n",
       "     std_test_score  rank_test_score  \n",
       "0          0.025011              185  \n",
       "1          0.055258              193  \n",
       "2          0.009738              193  \n",
       "3          0.040904              181  \n",
       "4          0.041919              113  \n",
       "..              ...              ...  \n",
       "195        0.048947              149  \n",
       "196        0.008310                5  \n",
       "197        0.048947              149  \n",
       "198        0.008310                5  \n",
       "199        0.048947              149  \n",
       "\n",
       "[200 rows x 15 columns]"
      ]
     },
     "execution_count": 125,
     "metadata": {},
     "output_type": "execute_result"
    }
   ],
   "source": [
    "result"
   ]
  },
  {
   "cell_type": "markdown",
   "id": "8d9c00bb",
   "metadata": {},
   "source": [
    "# Evaluate Model After Randomized Search CV Tuning"
   ]
  },
  {
   "cell_type": "code",
   "execution_count": 127,
   "id": "bbeb8b88",
   "metadata": {},
   "outputs": [
    {
     "data": {
      "text/plain": [
       "0.6699020319303338"
      ]
     },
     "execution_count": 127,
     "metadata": {},
     "output_type": "execute_result"
    }
   ],
   "source": [
    "rscv.best_score_"
   ]
  },
  {
   "cell_type": "code",
   "execution_count": 128,
   "id": "22e18375",
   "metadata": {},
   "outputs": [],
   "source": [
    "new_rscv = rscv.best_estimator_"
   ]
  },
  {
   "cell_type": "code",
   "execution_count": 129,
   "id": "1c1f9090",
   "metadata": {},
   "outputs": [
    {
     "name": "stdout",
     "output_type": "stream",
     "text": [
      "KNeighborsClassifier(n_neighbors=25)\n"
     ]
    }
   ],
   "source": [
    "print(new_rscv)"
   ]
  },
  {
   "cell_type": "markdown",
   "id": "05b727fd",
   "metadata": {},
   "source": [
    "# Tuning KNeighborsClassifier using Grid Search CV\n"
   ]
  },
  {
   "cell_type": "code",
   "execution_count": 116,
   "id": "9a6276ca",
   "metadata": {},
   "outputs": [],
   "source": [
    "from sklearn.model_selection import GridSearchCV"
   ]
  },
  {
   "cell_type": "code",
   "execution_count": 179,
   "id": "b0edfa09",
   "metadata": {},
   "outputs": [
    {
     "data": {
      "text/plain": [
       "GridSearchCV(estimator=KNeighborsClassifier(),\n",
       "             param_grid={'algorithm': ['auto', 'ball_tree', 'kd_tree', 'brute'],\n",
       "                         'n_neighbors': [10, 13, 17, 21, 25, 28, 32, 36, 40, 43,\n",
       "                                         47, 51, 55, 58, 62, 66, 70, 73, 77, 81,\n",
       "                                         85, 88, 92, 96, 100],\n",
       "                         'weights': ['uniform', 'distance']})"
      ]
     },
     "execution_count": 179,
     "metadata": {},
     "output_type": "execute_result"
    }
   ],
   "source": [
    "gscv = GridSearchCV(KNC,parameters)\n",
    "gscv.fit(xtrain,ytrain)"
   ]
  },
  {
   "cell_type": "code",
   "execution_count": 183,
   "id": "d1381ab8",
   "metadata": {},
   "outputs": [],
   "source": [
    "result2 = pd.DataFrame(gscv.cv_results_)"
   ]
  },
  {
   "cell_type": "code",
   "execution_count": 184,
   "id": "a70c3514",
   "metadata": {},
   "outputs": [
    {
     "data": {
      "text/html": [
       "<div>\n",
       "<style scoped>\n",
       "    .dataframe tbody tr th:only-of-type {\n",
       "        vertical-align: middle;\n",
       "    }\n",
       "\n",
       "    .dataframe tbody tr th {\n",
       "        vertical-align: top;\n",
       "    }\n",
       "\n",
       "    .dataframe thead th {\n",
       "        text-align: right;\n",
       "    }\n",
       "</style>\n",
       "<table border=\"1\" class=\"dataframe\">\n",
       "  <thead>\n",
       "    <tr style=\"text-align: right;\">\n",
       "      <th></th>\n",
       "      <th>mean_fit_time</th>\n",
       "      <th>std_fit_time</th>\n",
       "      <th>mean_score_time</th>\n",
       "      <th>std_score_time</th>\n",
       "      <th>param_algorithm</th>\n",
       "      <th>param_n_neighbors</th>\n",
       "      <th>param_weights</th>\n",
       "      <th>params</th>\n",
       "      <th>split0_test_score</th>\n",
       "      <th>split1_test_score</th>\n",
       "      <th>split2_test_score</th>\n",
       "      <th>split3_test_score</th>\n",
       "      <th>split4_test_score</th>\n",
       "      <th>mean_test_score</th>\n",
       "      <th>std_test_score</th>\n",
       "      <th>rank_test_score</th>\n",
       "    </tr>\n",
       "  </thead>\n",
       "  <tbody>\n",
       "    <tr>\n",
       "      <th>0</th>\n",
       "      <td>0.001200</td>\n",
       "      <td>3.998995e-04</td>\n",
       "      <td>0.001805</td>\n",
       "      <td>3.990733e-04</td>\n",
       "      <td>auto</td>\n",
       "      <td>10</td>\n",
       "      <td>uniform</td>\n",
       "      <td>{'algorithm': 'auto', 'n_neighbors': 10, 'weig...</td>\n",
       "      <td>0.642857</td>\n",
       "      <td>0.642857</td>\n",
       "      <td>0.642857</td>\n",
       "      <td>0.619048</td>\n",
       "      <td>0.585366</td>\n",
       "      <td>0.626597</td>\n",
       "      <td>0.022584</td>\n",
       "      <td>193</td>\n",
       "    </tr>\n",
       "    <tr>\n",
       "      <th>1</th>\n",
       "      <td>0.001101</td>\n",
       "      <td>4.880514e-04</td>\n",
       "      <td>0.001199</td>\n",
       "      <td>4.006204e-04</td>\n",
       "      <td>auto</td>\n",
       "      <td>10</td>\n",
       "      <td>distance</td>\n",
       "      <td>{'algorithm': 'auto', 'n_neighbors': 10, 'weig...</td>\n",
       "      <td>0.642857</td>\n",
       "      <td>0.714286</td>\n",
       "      <td>0.642857</td>\n",
       "      <td>0.595238</td>\n",
       "      <td>0.609756</td>\n",
       "      <td>0.640999</td>\n",
       "      <td>0.041105</td>\n",
       "      <td>177</td>\n",
       "    </tr>\n",
       "    <tr>\n",
       "      <th>2</th>\n",
       "      <td>0.001000</td>\n",
       "      <td>1.784161e-07</td>\n",
       "      <td>0.002000</td>\n",
       "      <td>1.907349e-07</td>\n",
       "      <td>auto</td>\n",
       "      <td>13</td>\n",
       "      <td>uniform</td>\n",
       "      <td>{'algorithm': 'auto', 'n_neighbors': 13, 'weig...</td>\n",
       "      <td>0.642857</td>\n",
       "      <td>0.642857</td>\n",
       "      <td>0.619048</td>\n",
       "      <td>0.642857</td>\n",
       "      <td>0.585366</td>\n",
       "      <td>0.626597</td>\n",
       "      <td>0.022584</td>\n",
       "      <td>193</td>\n",
       "    </tr>\n",
       "    <tr>\n",
       "      <th>3</th>\n",
       "      <td>0.001200</td>\n",
       "      <td>3.999949e-04</td>\n",
       "      <td>0.001200</td>\n",
       "      <td>4.000664e-04</td>\n",
       "      <td>auto</td>\n",
       "      <td>13</td>\n",
       "      <td>distance</td>\n",
       "      <td>{'algorithm': 'auto', 'n_neighbors': 13, 'weig...</td>\n",
       "      <td>0.642857</td>\n",
       "      <td>0.714286</td>\n",
       "      <td>0.642857</td>\n",
       "      <td>0.642857</td>\n",
       "      <td>0.609756</td>\n",
       "      <td>0.650523</td>\n",
       "      <td>0.034363</td>\n",
       "      <td>113</td>\n",
       "    </tr>\n",
       "    <tr>\n",
       "      <th>4</th>\n",
       "      <td>0.001000</td>\n",
       "      <td>9.536743e-08</td>\n",
       "      <td>0.001400</td>\n",
       "      <td>4.900766e-04</td>\n",
       "      <td>auto</td>\n",
       "      <td>17</td>\n",
       "      <td>uniform</td>\n",
       "      <td>{'algorithm': 'auto', 'n_neighbors': 17, 'weig...</td>\n",
       "      <td>0.642857</td>\n",
       "      <td>0.642857</td>\n",
       "      <td>0.619048</td>\n",
       "      <td>0.690476</td>\n",
       "      <td>0.585366</td>\n",
       "      <td>0.636121</td>\n",
       "      <td>0.034388</td>\n",
       "      <td>189</td>\n",
       "    </tr>\n",
       "    <tr>\n",
       "      <th>...</th>\n",
       "      <td>...</td>\n",
       "      <td>...</td>\n",
       "      <td>...</td>\n",
       "      <td>...</td>\n",
       "      <td>...</td>\n",
       "      <td>...</td>\n",
       "      <td>...</td>\n",
       "      <td>...</td>\n",
       "      <td>...</td>\n",
       "      <td>...</td>\n",
       "      <td>...</td>\n",
       "      <td>...</td>\n",
       "      <td>...</td>\n",
       "      <td>...</td>\n",
       "      <td>...</td>\n",
       "      <td>...</td>\n",
       "    </tr>\n",
       "    <tr>\n",
       "      <th>195</th>\n",
       "      <td>0.001000</td>\n",
       "      <td>1.168008e-07</td>\n",
       "      <td>0.001000</td>\n",
       "      <td>1.507891e-07</td>\n",
       "      <td>brute</td>\n",
       "      <td>92</td>\n",
       "      <td>distance</td>\n",
       "      <td>{'algorithm': 'brute', 'n_neighbors': 92, 'wei...</td>\n",
       "      <td>0.619048</td>\n",
       "      <td>0.690476</td>\n",
       "      <td>0.642857</td>\n",
       "      <td>0.619048</td>\n",
       "      <td>0.658537</td>\n",
       "      <td>0.645993</td>\n",
       "      <td>0.026825</td>\n",
       "      <td>137</td>\n",
       "    </tr>\n",
       "    <tr>\n",
       "      <th>196</th>\n",
       "      <td>0.001000</td>\n",
       "      <td>9.536743e-08</td>\n",
       "      <td>0.001600</td>\n",
       "      <td>4.899987e-04</td>\n",
       "      <td>brute</td>\n",
       "      <td>96</td>\n",
       "      <td>uniform</td>\n",
       "      <td>{'algorithm': 'brute', 'n_neighbors': 96, 'wei...</td>\n",
       "      <td>0.666667</td>\n",
       "      <td>0.666667</td>\n",
       "      <td>0.666667</td>\n",
       "      <td>0.666667</td>\n",
       "      <td>0.658537</td>\n",
       "      <td>0.665041</td>\n",
       "      <td>0.003252</td>\n",
       "      <td>5</td>\n",
       "    </tr>\n",
       "    <tr>\n",
       "      <th>197</th>\n",
       "      <td>0.001000</td>\n",
       "      <td>1.168008e-07</td>\n",
       "      <td>0.001200</td>\n",
       "      <td>4.000902e-04</td>\n",
       "      <td>brute</td>\n",
       "      <td>96</td>\n",
       "      <td>distance</td>\n",
       "      <td>{'algorithm': 'brute', 'n_neighbors': 96, 'wei...</td>\n",
       "      <td>0.619048</td>\n",
       "      <td>0.690476</td>\n",
       "      <td>0.642857</td>\n",
       "      <td>0.619048</td>\n",
       "      <td>0.658537</td>\n",
       "      <td>0.645993</td>\n",
       "      <td>0.026825</td>\n",
       "      <td>137</td>\n",
       "    </tr>\n",
       "    <tr>\n",
       "      <th>198</th>\n",
       "      <td>0.000800</td>\n",
       "      <td>4.001141e-04</td>\n",
       "      <td>0.001600</td>\n",
       "      <td>4.900182e-04</td>\n",
       "      <td>brute</td>\n",
       "      <td>100</td>\n",
       "      <td>uniform</td>\n",
       "      <td>{'algorithm': 'brute', 'n_neighbors': 100, 'we...</td>\n",
       "      <td>0.666667</td>\n",
       "      <td>0.666667</td>\n",
       "      <td>0.666667</td>\n",
       "      <td>0.666667</td>\n",
       "      <td>0.658537</td>\n",
       "      <td>0.665041</td>\n",
       "      <td>0.003252</td>\n",
       "      <td>5</td>\n",
       "    </tr>\n",
       "    <tr>\n",
       "      <th>199</th>\n",
       "      <td>0.000800</td>\n",
       "      <td>4.001141e-04</td>\n",
       "      <td>0.001400</td>\n",
       "      <td>4.899792e-04</td>\n",
       "      <td>brute</td>\n",
       "      <td>100</td>\n",
       "      <td>distance</td>\n",
       "      <td>{'algorithm': 'brute', 'n_neighbors': 100, 'we...</td>\n",
       "      <td>0.619048</td>\n",
       "      <td>0.690476</td>\n",
       "      <td>0.642857</td>\n",
       "      <td>0.619048</td>\n",
       "      <td>0.658537</td>\n",
       "      <td>0.645993</td>\n",
       "      <td>0.026825</td>\n",
       "      <td>137</td>\n",
       "    </tr>\n",
       "  </tbody>\n",
       "</table>\n",
       "<p>200 rows × 16 columns</p>\n",
       "</div>"
      ],
      "text/plain": [
       "     mean_fit_time  std_fit_time  mean_score_time  std_score_time  \\\n",
       "0         0.001200  3.998995e-04         0.001805    3.990733e-04   \n",
       "1         0.001101  4.880514e-04         0.001199    4.006204e-04   \n",
       "2         0.001000  1.784161e-07         0.002000    1.907349e-07   \n",
       "3         0.001200  3.999949e-04         0.001200    4.000664e-04   \n",
       "4         0.001000  9.536743e-08         0.001400    4.900766e-04   \n",
       "..             ...           ...              ...             ...   \n",
       "195       0.001000  1.168008e-07         0.001000    1.507891e-07   \n",
       "196       0.001000  9.536743e-08         0.001600    4.899987e-04   \n",
       "197       0.001000  1.168008e-07         0.001200    4.000902e-04   \n",
       "198       0.000800  4.001141e-04         0.001600    4.900182e-04   \n",
       "199       0.000800  4.001141e-04         0.001400    4.899792e-04   \n",
       "\n",
       "    param_algorithm param_n_neighbors param_weights  \\\n",
       "0              auto                10       uniform   \n",
       "1              auto                10      distance   \n",
       "2              auto                13       uniform   \n",
       "3              auto                13      distance   \n",
       "4              auto                17       uniform   \n",
       "..              ...               ...           ...   \n",
       "195           brute                92      distance   \n",
       "196           brute                96       uniform   \n",
       "197           brute                96      distance   \n",
       "198           brute               100       uniform   \n",
       "199           brute               100      distance   \n",
       "\n",
       "                                                params  split0_test_score  \\\n",
       "0    {'algorithm': 'auto', 'n_neighbors': 10, 'weig...           0.642857   \n",
       "1    {'algorithm': 'auto', 'n_neighbors': 10, 'weig...           0.642857   \n",
       "2    {'algorithm': 'auto', 'n_neighbors': 13, 'weig...           0.642857   \n",
       "3    {'algorithm': 'auto', 'n_neighbors': 13, 'weig...           0.642857   \n",
       "4    {'algorithm': 'auto', 'n_neighbors': 17, 'weig...           0.642857   \n",
       "..                                                 ...                ...   \n",
       "195  {'algorithm': 'brute', 'n_neighbors': 92, 'wei...           0.619048   \n",
       "196  {'algorithm': 'brute', 'n_neighbors': 96, 'wei...           0.666667   \n",
       "197  {'algorithm': 'brute', 'n_neighbors': 96, 'wei...           0.619048   \n",
       "198  {'algorithm': 'brute', 'n_neighbors': 100, 'we...           0.666667   \n",
       "199  {'algorithm': 'brute', 'n_neighbors': 100, 'we...           0.619048   \n",
       "\n",
       "     split1_test_score  split2_test_score  split3_test_score  \\\n",
       "0             0.642857           0.642857           0.619048   \n",
       "1             0.714286           0.642857           0.595238   \n",
       "2             0.642857           0.619048           0.642857   \n",
       "3             0.714286           0.642857           0.642857   \n",
       "4             0.642857           0.619048           0.690476   \n",
       "..                 ...                ...                ...   \n",
       "195           0.690476           0.642857           0.619048   \n",
       "196           0.666667           0.666667           0.666667   \n",
       "197           0.690476           0.642857           0.619048   \n",
       "198           0.666667           0.666667           0.666667   \n",
       "199           0.690476           0.642857           0.619048   \n",
       "\n",
       "     split4_test_score  mean_test_score  std_test_score  rank_test_score  \n",
       "0             0.585366         0.626597        0.022584              193  \n",
       "1             0.609756         0.640999        0.041105              177  \n",
       "2             0.585366         0.626597        0.022584              193  \n",
       "3             0.609756         0.650523        0.034363              113  \n",
       "4             0.585366         0.636121        0.034388              189  \n",
       "..                 ...              ...             ...              ...  \n",
       "195           0.658537         0.645993        0.026825              137  \n",
       "196           0.658537         0.665041        0.003252                5  \n",
       "197           0.658537         0.645993        0.026825              137  \n",
       "198           0.658537         0.665041        0.003252                5  \n",
       "199           0.658537         0.645993        0.026825              137  \n",
       "\n",
       "[200 rows x 16 columns]"
      ]
     },
     "execution_count": 184,
     "metadata": {},
     "output_type": "execute_result"
    }
   ],
   "source": [
    "result2"
   ]
  },
  {
   "cell_type": "markdown",
   "id": "ed4e04e3",
   "metadata": {},
   "source": [
    "# Evaluate Model After  GridSearchCV Tuning"
   ]
  },
  {
   "cell_type": "code",
   "execution_count": 185,
   "id": "52602714",
   "metadata": {},
   "outputs": [
    {
     "data": {
      "text/plain": [
       "0.6651567944250871"
      ]
     },
     "execution_count": 185,
     "metadata": {},
     "output_type": "execute_result"
    }
   ],
   "source": [
    "gscv.best_score_"
   ]
  },
  {
   "cell_type": "code",
   "execution_count": 186,
   "id": "9e3aae6b",
   "metadata": {},
   "outputs": [
    {
     "data": {
      "text/plain": [
       "KNeighborsClassifier(n_neighbors=25)"
      ]
     },
     "execution_count": 186,
     "metadata": {},
     "output_type": "execute_result"
    }
   ],
   "source": [
    "gscv.best_estimator_"
   ]
  },
  {
   "cell_type": "markdown",
   "id": "85e0985c",
   "metadata": {},
   "source": [
    "# For Decision Tree Classifier Algorithm\n",
    "Train and Testing data --- Apply Decision Tree Classifier"
   ]
  },
  {
   "cell_type": "code",
   "execution_count": 111,
   "id": "5660f28b",
   "metadata": {},
   "outputs": [],
   "source": [
    "from sklearn.tree import DecisionTreeClassifier"
   ]
  },
  {
   "cell_type": "code",
   "execution_count": 110,
   "id": "025cdb83",
   "metadata": {},
   "outputs": [
    {
     "data": {
      "text/plain": [
       "DecisionTreeClassifier()"
      ]
     },
     "execution_count": 110,
     "metadata": {},
     "output_type": "execute_result"
    }
   ],
   "source": [
    "Dtc = DecisionTreeClassifier()\n",
    "Dtc.fit(xtrain,ytrain)"
   ]
  },
  {
   "cell_type": "code",
   "execution_count": 109,
   "id": "0a656aeb",
   "metadata": {},
   "outputs": [
    {
     "data": {
      "text/plain": [
       "array([0, 0, 0, 0, 0, 0, 0, 0, 1, 1, 1, 0, 1, 0, 0, 0, 0, 1, 0, 0, 0, 1,\n",
       "       1, 1, 0, 0, 0, 0, 0, 1, 0, 1, 0, 0, 0, 1, 0, 0, 0, 0, 1, 0, 0, 0,\n",
       "       1, 1, 0, 0, 1, 0, 0, 0, 0, 1, 0, 0, 0, 0, 0, 0, 0, 0, 0, 0, 1, 1,\n",
       "       1, 0, 0, 0, 0, 0, 0, 0, 0, 1, 0, 0, 0, 1, 1, 0, 1, 0, 0, 0, 0, 0,\n",
       "       0, 1], dtype=int64)"
      ]
     },
     "execution_count": 109,
     "metadata": {},
     "output_type": "execute_result"
    }
   ],
   "source": [
    "Dtc.predict(xtest)"
   ]
  },
  {
   "cell_type": "code",
   "execution_count": 108,
   "id": "ba90b01d",
   "metadata": {},
   "outputs": [],
   "source": [
    "data[\"Predicted Death_DTC\"] = Dtc.predict(x)"
   ]
  },
  {
   "cell_type": "code",
   "execution_count": 107,
   "id": "5c5808b1",
   "metadata": {},
   "outputs": [
    {
     "data": {
      "text/html": [
       "<div>\n",
       "<style scoped>\n",
       "    .dataframe tbody tr th:only-of-type {\n",
       "        vertical-align: middle;\n",
       "    }\n",
       "\n",
       "    .dataframe tbody tr th {\n",
       "        vertical-align: top;\n",
       "    }\n",
       "\n",
       "    .dataframe thead th {\n",
       "        text-align: right;\n",
       "    }\n",
       "</style>\n",
       "<table border=\"1\" class=\"dataframe\">\n",
       "  <thead>\n",
       "    <tr style=\"text-align: right;\">\n",
       "      <th></th>\n",
       "      <th>age</th>\n",
       "      <th>anaemia</th>\n",
       "      <th>creatinine_phosphokinase</th>\n",
       "      <th>diabetes</th>\n",
       "      <th>ejection_fraction</th>\n",
       "      <th>high_blood_pressure</th>\n",
       "      <th>platelets</th>\n",
       "      <th>serum_creatinine</th>\n",
       "      <th>serum_sodium</th>\n",
       "      <th>sex</th>\n",
       "      <th>smoking</th>\n",
       "      <th>time</th>\n",
       "      <th>death</th>\n",
       "    </tr>\n",
       "  </thead>\n",
       "  <tbody>\n",
       "    <tr>\n",
       "      <th>294</th>\n",
       "      <td>62.0</td>\n",
       "      <td>0</td>\n",
       "      <td>61</td>\n",
       "      <td>1</td>\n",
       "      <td>38</td>\n",
       "      <td>1</td>\n",
       "      <td>155000.0</td>\n",
       "      <td>1.1</td>\n",
       "      <td>143</td>\n",
       "      <td>1</td>\n",
       "      <td>1</td>\n",
       "      <td>270</td>\n",
       "      <td>0</td>\n",
       "    </tr>\n",
       "    <tr>\n",
       "      <th>295</th>\n",
       "      <td>55.0</td>\n",
       "      <td>0</td>\n",
       "      <td>1820</td>\n",
       "      <td>0</td>\n",
       "      <td>38</td>\n",
       "      <td>0</td>\n",
       "      <td>270000.0</td>\n",
       "      <td>1.2</td>\n",
       "      <td>139</td>\n",
       "      <td>0</td>\n",
       "      <td>0</td>\n",
       "      <td>271</td>\n",
       "      <td>0</td>\n",
       "    </tr>\n",
       "    <tr>\n",
       "      <th>296</th>\n",
       "      <td>45.0</td>\n",
       "      <td>0</td>\n",
       "      <td>2060</td>\n",
       "      <td>1</td>\n",
       "      <td>60</td>\n",
       "      <td>0</td>\n",
       "      <td>742000.0</td>\n",
       "      <td>0.8</td>\n",
       "      <td>138</td>\n",
       "      <td>0</td>\n",
       "      <td>0</td>\n",
       "      <td>278</td>\n",
       "      <td>0</td>\n",
       "    </tr>\n",
       "    <tr>\n",
       "      <th>297</th>\n",
       "      <td>45.0</td>\n",
       "      <td>0</td>\n",
       "      <td>2413</td>\n",
       "      <td>0</td>\n",
       "      <td>38</td>\n",
       "      <td>0</td>\n",
       "      <td>140000.0</td>\n",
       "      <td>1.4</td>\n",
       "      <td>140</td>\n",
       "      <td>1</td>\n",
       "      <td>1</td>\n",
       "      <td>280</td>\n",
       "      <td>0</td>\n",
       "    </tr>\n",
       "    <tr>\n",
       "      <th>298</th>\n",
       "      <td>50.0</td>\n",
       "      <td>0</td>\n",
       "      <td>196</td>\n",
       "      <td>0</td>\n",
       "      <td>45</td>\n",
       "      <td>0</td>\n",
       "      <td>395000.0</td>\n",
       "      <td>1.6</td>\n",
       "      <td>136</td>\n",
       "      <td>1</td>\n",
       "      <td>1</td>\n",
       "      <td>285</td>\n",
       "      <td>0</td>\n",
       "    </tr>\n",
       "  </tbody>\n",
       "</table>\n",
       "</div>"
      ],
      "text/plain": [
       "      age  anaemia  creatinine_phosphokinase  diabetes  ejection_fraction  \\\n",
       "294  62.0        0                        61         1                 38   \n",
       "295  55.0        0                      1820         0                 38   \n",
       "296  45.0        0                      2060         1                 60   \n",
       "297  45.0        0                      2413         0                 38   \n",
       "298  50.0        0                       196         0                 45   \n",
       "\n",
       "     high_blood_pressure  platelets  serum_creatinine  serum_sodium  sex  \\\n",
       "294                    1   155000.0               1.1           143    1   \n",
       "295                    0   270000.0               1.2           139    0   \n",
       "296                    0   742000.0               0.8           138    0   \n",
       "297                    0   140000.0               1.4           140    1   \n",
       "298                    0   395000.0               1.6           136    1   \n",
       "\n",
       "     smoking  time  death  \n",
       "294        1   270      0  \n",
       "295        0   271      0  \n",
       "296        0   278      0  \n",
       "297        1   280      0  \n",
       "298        1   285      0  "
      ]
     },
     "execution_count": 107,
     "metadata": {},
     "output_type": "execute_result"
    }
   ],
   "source": [
    "data.tail()"
   ]
  },
  {
   "cell_type": "markdown",
   "id": "8305c310",
   "metadata": {},
   "source": [
    "# Decision Tree Classifier Model Score before Tuning"
   ]
  },
  {
   "cell_type": "code",
   "execution_count": 106,
   "id": "6dba669b",
   "metadata": {},
   "outputs": [
    {
     "data": {
      "text/plain": [
       "0.8"
      ]
     },
     "execution_count": 106,
     "metadata": {},
     "output_type": "execute_result"
    }
   ],
   "source": [
    "Dtc.score(xtest,ytest)"
   ]
  },
  {
   "cell_type": "markdown",
   "id": "d7bfd8c4",
   "metadata": {},
   "source": [
    "# Tuning Decision Tree Classifier using Randomized Search CV"
   ]
  },
  {
   "cell_type": "code",
   "execution_count": 162,
   "id": "99ccf062",
   "metadata": {},
   "outputs": [],
   "source": [
    "criterion = [\"gini\", \"entropy\"]\n",
    "splitter = [\"best\", \"random\"]\n",
    "\n",
    "Dtc_parameters = {\n",
    "    \"criterion\" : criterion,\n",
    "    \"splitter\" : splitter\n",
    "    }"
   ]
  },
  {
   "cell_type": "code",
   "execution_count": 168,
   "id": "922cca5b",
   "metadata": {},
   "outputs": [],
   "source": [
    "rscv_Dtc = RandomizedSearchCV(Dtc,Dtc_parameters,n_iter=150, cv = 3)"
   ]
  },
  {
   "cell_type": "code",
   "execution_count": 169,
   "id": "a3bd7399",
   "metadata": {},
   "outputs": [
    {
     "data": {
      "text/plain": [
       "RandomizedSearchCV(cv=3, estimator=DecisionTreeClassifier(), n_iter=150,\n",
       "                   param_distributions={'criterion': ['gini', 'entropy'],\n",
       "                                        'splitter': ['best', 'random']})"
      ]
     },
     "execution_count": 169,
     "metadata": {},
     "output_type": "execute_result"
    }
   ],
   "source": [
    "import warnings\n",
    "warnings.filterwarnings('ignore')\n",
    "\n",
    "rscv_Dtc.fit(xtrain,ytrain)\n"
   ]
  },
  {
   "cell_type": "code",
   "execution_count": 170,
   "id": "458a5a2b",
   "metadata": {},
   "outputs": [
    {
     "data": {
      "text/html": [
       "<div>\n",
       "<style scoped>\n",
       "    .dataframe tbody tr th:only-of-type {\n",
       "        vertical-align: middle;\n",
       "    }\n",
       "\n",
       "    .dataframe tbody tr th {\n",
       "        vertical-align: top;\n",
       "    }\n",
       "\n",
       "    .dataframe thead th {\n",
       "        text-align: right;\n",
       "    }\n",
       "</style>\n",
       "<table border=\"1\" class=\"dataframe\">\n",
       "  <thead>\n",
       "    <tr style=\"text-align: right;\">\n",
       "      <th></th>\n",
       "      <th>mean_fit_time</th>\n",
       "      <th>std_fit_time</th>\n",
       "      <th>mean_score_time</th>\n",
       "      <th>std_score_time</th>\n",
       "      <th>param_splitter</th>\n",
       "      <th>param_criterion</th>\n",
       "      <th>params</th>\n",
       "      <th>split0_test_score</th>\n",
       "      <th>split1_test_score</th>\n",
       "      <th>split2_test_score</th>\n",
       "      <th>mean_test_score</th>\n",
       "      <th>std_test_score</th>\n",
       "      <th>rank_test_score</th>\n",
       "    </tr>\n",
       "  </thead>\n",
       "  <tbody>\n",
       "    <tr>\n",
       "      <th>0</th>\n",
       "      <td>0.001504</td>\n",
       "      <td>7.016607e-04</td>\n",
       "      <td>0.000501</td>\n",
       "      <td>4.056273e-04</td>\n",
       "      <td>best</td>\n",
       "      <td>gini</td>\n",
       "      <td>{'splitter': 'best', 'criterion': 'gini'}</td>\n",
       "      <td>0.757143</td>\n",
       "      <td>0.885714</td>\n",
       "      <td>0.739130</td>\n",
       "      <td>0.793996</td>\n",
       "      <td>0.065270</td>\n",
       "      <td>1</td>\n",
       "    </tr>\n",
       "    <tr>\n",
       "      <th>1</th>\n",
       "      <td>0.001170</td>\n",
       "      <td>2.433356e-04</td>\n",
       "      <td>0.000667</td>\n",
       "      <td>4.715390e-04</td>\n",
       "      <td>random</td>\n",
       "      <td>gini</td>\n",
       "      <td>{'splitter': 'random', 'criterion': 'gini'}</td>\n",
       "      <td>0.657143</td>\n",
       "      <td>0.671429</td>\n",
       "      <td>0.724638</td>\n",
       "      <td>0.684403</td>\n",
       "      <td>0.029042</td>\n",
       "      <td>4</td>\n",
       "    </tr>\n",
       "    <tr>\n",
       "      <th>2</th>\n",
       "      <td>0.001500</td>\n",
       "      <td>4.104690e-04</td>\n",
       "      <td>0.000503</td>\n",
       "      <td>4.083390e-04</td>\n",
       "      <td>best</td>\n",
       "      <td>entropy</td>\n",
       "      <td>{'splitter': 'best', 'criterion': 'entropy'}</td>\n",
       "      <td>0.714286</td>\n",
       "      <td>0.800000</td>\n",
       "      <td>0.594203</td>\n",
       "      <td>0.702830</td>\n",
       "      <td>0.084406</td>\n",
       "      <td>3</td>\n",
       "    </tr>\n",
       "    <tr>\n",
       "      <th>3</th>\n",
       "      <td>0.001000</td>\n",
       "      <td>1.123916e-07</td>\n",
       "      <td>0.001000</td>\n",
       "      <td>1.946680e-07</td>\n",
       "      <td>random</td>\n",
       "      <td>entropy</td>\n",
       "      <td>{'splitter': 'random', 'criterion': 'entropy'}</td>\n",
       "      <td>0.800000</td>\n",
       "      <td>0.742857</td>\n",
       "      <td>0.826087</td>\n",
       "      <td>0.789648</td>\n",
       "      <td>0.034758</td>\n",
       "      <td>2</td>\n",
       "    </tr>\n",
       "  </tbody>\n",
       "</table>\n",
       "</div>"
      ],
      "text/plain": [
       "   mean_fit_time  std_fit_time  mean_score_time  std_score_time  \\\n",
       "0       0.001504  7.016607e-04         0.000501    4.056273e-04   \n",
       "1       0.001170  2.433356e-04         0.000667    4.715390e-04   \n",
       "2       0.001500  4.104690e-04         0.000503    4.083390e-04   \n",
       "3       0.001000  1.123916e-07         0.001000    1.946680e-07   \n",
       "\n",
       "  param_splitter param_criterion  \\\n",
       "0           best            gini   \n",
       "1         random            gini   \n",
       "2           best         entropy   \n",
       "3         random         entropy   \n",
       "\n",
       "                                           params  split0_test_score  \\\n",
       "0       {'splitter': 'best', 'criterion': 'gini'}           0.757143   \n",
       "1     {'splitter': 'random', 'criterion': 'gini'}           0.657143   \n",
       "2    {'splitter': 'best', 'criterion': 'entropy'}           0.714286   \n",
       "3  {'splitter': 'random', 'criterion': 'entropy'}           0.800000   \n",
       "\n",
       "   split1_test_score  split2_test_score  mean_test_score  std_test_score  \\\n",
       "0           0.885714           0.739130         0.793996        0.065270   \n",
       "1           0.671429           0.724638         0.684403        0.029042   \n",
       "2           0.800000           0.594203         0.702830        0.084406   \n",
       "3           0.742857           0.826087         0.789648        0.034758   \n",
       "\n",
       "   rank_test_score  \n",
       "0                1  \n",
       "1                4  \n",
       "2                3  \n",
       "3                2  "
      ]
     },
     "execution_count": 170,
     "metadata": {},
     "output_type": "execute_result"
    }
   ],
   "source": [
    "pd.DataFrame(rscv_Dtc.cv_results_)"
   ]
  },
  {
   "cell_type": "markdown",
   "id": "00ba8956",
   "metadata": {},
   "source": [
    "# Evaluate Model After Randomized Search CV Tuning"
   ]
  },
  {
   "cell_type": "code",
   "execution_count": 171,
   "id": "bb226469",
   "metadata": {},
   "outputs": [
    {
     "data": {
      "text/plain": [
       "0.7939958592132506"
      ]
     },
     "execution_count": 171,
     "metadata": {},
     "output_type": "execute_result"
    }
   ],
   "source": [
    "rscv_Dtc.best_score_"
   ]
  },
  {
   "cell_type": "code",
   "execution_count": 172,
   "id": "b3651f61",
   "metadata": {},
   "outputs": [
    {
     "data": {
      "text/plain": [
       "DecisionTreeClassifier()"
      ]
     },
     "execution_count": 172,
     "metadata": {},
     "output_type": "execute_result"
    }
   ],
   "source": [
    "rscv_Dtc.best_estimator_"
   ]
  },
  {
   "cell_type": "markdown",
   "id": "1b659afb",
   "metadata": {},
   "source": [
    "# Tuning Decision Tree Classifier using Grid Search CV\n"
   ]
  },
  {
   "cell_type": "code",
   "execution_count": 173,
   "id": "0e973628",
   "metadata": {},
   "outputs": [],
   "source": [
    "gscv_Dtc = GridSearchCV(Dtc,Dtc_parameters)"
   ]
  },
  {
   "cell_type": "code",
   "execution_count": 174,
   "id": "3c531084",
   "metadata": {},
   "outputs": [
    {
     "data": {
      "text/plain": [
       "GridSearchCV(estimator=DecisionTreeClassifier(),\n",
       "             param_grid={'criterion': ['gini', 'entropy'],\n",
       "                         'splitter': ['best', 'random']})"
      ]
     },
     "execution_count": 174,
     "metadata": {},
     "output_type": "execute_result"
    }
   ],
   "source": [
    "gscv_Dtc.fit(xtrain,ytrain)"
   ]
  },
  {
   "cell_type": "code",
   "execution_count": 175,
   "id": "53f58f38",
   "metadata": {},
   "outputs": [
    {
     "data": {
      "text/html": [
       "<div>\n",
       "<style scoped>\n",
       "    .dataframe tbody tr th:only-of-type {\n",
       "        vertical-align: middle;\n",
       "    }\n",
       "\n",
       "    .dataframe tbody tr th {\n",
       "        vertical-align: top;\n",
       "    }\n",
       "\n",
       "    .dataframe thead th {\n",
       "        text-align: right;\n",
       "    }\n",
       "</style>\n",
       "<table border=\"1\" class=\"dataframe\">\n",
       "  <thead>\n",
       "    <tr style=\"text-align: right;\">\n",
       "      <th></th>\n",
       "      <th>mean_fit_time</th>\n",
       "      <th>std_fit_time</th>\n",
       "      <th>mean_score_time</th>\n",
       "      <th>std_score_time</th>\n",
       "      <th>param_criterion</th>\n",
       "      <th>param_splitter</th>\n",
       "      <th>params</th>\n",
       "      <th>split0_test_score</th>\n",
       "      <th>split1_test_score</th>\n",
       "      <th>split2_test_score</th>\n",
       "      <th>split3_test_score</th>\n",
       "      <th>split4_test_score</th>\n",
       "      <th>mean_test_score</th>\n",
       "      <th>std_test_score</th>\n",
       "      <th>rank_test_score</th>\n",
       "    </tr>\n",
       "  </thead>\n",
       "  <tbody>\n",
       "    <tr>\n",
       "      <th>0</th>\n",
       "      <td>0.001204</td>\n",
       "      <td>5.084324e-04</td>\n",
       "      <td>0.000899</td>\n",
       "      <td>1.946524e-04</td>\n",
       "      <td>gini</td>\n",
       "      <td>best</td>\n",
       "      <td>{'criterion': 'gini', 'splitter': 'best'}</td>\n",
       "      <td>0.809524</td>\n",
       "      <td>0.738095</td>\n",
       "      <td>0.785714</td>\n",
       "      <td>0.738095</td>\n",
       "      <td>0.829268</td>\n",
       "      <td>0.780139</td>\n",
       "      <td>0.036996</td>\n",
       "      <td>1</td>\n",
       "    </tr>\n",
       "    <tr>\n",
       "      <th>1</th>\n",
       "      <td>0.001301</td>\n",
       "      <td>4.004156e-04</td>\n",
       "      <td>0.000501</td>\n",
       "      <td>4.473964e-04</td>\n",
       "      <td>gini</td>\n",
       "      <td>random</td>\n",
       "      <td>{'criterion': 'gini', 'splitter': 'random'}</td>\n",
       "      <td>0.714286</td>\n",
       "      <td>0.738095</td>\n",
       "      <td>0.738095</td>\n",
       "      <td>0.642857</td>\n",
       "      <td>0.707317</td>\n",
       "      <td>0.708130</td>\n",
       "      <td>0.034914</td>\n",
       "      <td>3</td>\n",
       "    </tr>\n",
       "    <tr>\n",
       "      <th>2</th>\n",
       "      <td>0.001400</td>\n",
       "      <td>4.900376e-04</td>\n",
       "      <td>0.000800</td>\n",
       "      <td>4.002334e-04</td>\n",
       "      <td>entropy</td>\n",
       "      <td>best</td>\n",
       "      <td>{'criterion': 'entropy', 'splitter': 'best'}</td>\n",
       "      <td>0.833333</td>\n",
       "      <td>0.738095</td>\n",
       "      <td>0.809524</td>\n",
       "      <td>0.714286</td>\n",
       "      <td>0.756098</td>\n",
       "      <td>0.770267</td>\n",
       "      <td>0.044471</td>\n",
       "      <td>2</td>\n",
       "    </tr>\n",
       "    <tr>\n",
       "      <th>3</th>\n",
       "      <td>0.001000</td>\n",
       "      <td>1.907349e-07</td>\n",
       "      <td>0.001000</td>\n",
       "      <td>9.536743e-08</td>\n",
       "      <td>entropy</td>\n",
       "      <td>random</td>\n",
       "      <td>{'criterion': 'entropy', 'splitter': 'random'}</td>\n",
       "      <td>0.714286</td>\n",
       "      <td>0.619048</td>\n",
       "      <td>0.738095</td>\n",
       "      <td>0.714286</td>\n",
       "      <td>0.731707</td>\n",
       "      <td>0.703484</td>\n",
       "      <td>0.043260</td>\n",
       "      <td>4</td>\n",
       "    </tr>\n",
       "  </tbody>\n",
       "</table>\n",
       "</div>"
      ],
      "text/plain": [
       "   mean_fit_time  std_fit_time  mean_score_time  std_score_time  \\\n",
       "0       0.001204  5.084324e-04         0.000899    1.946524e-04   \n",
       "1       0.001301  4.004156e-04         0.000501    4.473964e-04   \n",
       "2       0.001400  4.900376e-04         0.000800    4.002334e-04   \n",
       "3       0.001000  1.907349e-07         0.001000    9.536743e-08   \n",
       "\n",
       "  param_criterion param_splitter  \\\n",
       "0            gini           best   \n",
       "1            gini         random   \n",
       "2         entropy           best   \n",
       "3         entropy         random   \n",
       "\n",
       "                                           params  split0_test_score  \\\n",
       "0       {'criterion': 'gini', 'splitter': 'best'}           0.809524   \n",
       "1     {'criterion': 'gini', 'splitter': 'random'}           0.714286   \n",
       "2    {'criterion': 'entropy', 'splitter': 'best'}           0.833333   \n",
       "3  {'criterion': 'entropy', 'splitter': 'random'}           0.714286   \n",
       "\n",
       "   split1_test_score  split2_test_score  split3_test_score  split4_test_score  \\\n",
       "0           0.738095           0.785714           0.738095           0.829268   \n",
       "1           0.738095           0.738095           0.642857           0.707317   \n",
       "2           0.738095           0.809524           0.714286           0.756098   \n",
       "3           0.619048           0.738095           0.714286           0.731707   \n",
       "\n",
       "   mean_test_score  std_test_score  rank_test_score  \n",
       "0         0.780139        0.036996                1  \n",
       "1         0.708130        0.034914                3  \n",
       "2         0.770267        0.044471                2  \n",
       "3         0.703484        0.043260                4  "
      ]
     },
     "execution_count": 175,
     "metadata": {},
     "output_type": "execute_result"
    }
   ],
   "source": [
    "pd.DataFrame(gscv_Dtc.cv_results_)"
   ]
  },
  {
   "cell_type": "markdown",
   "id": "44be7ba8",
   "metadata": {},
   "source": [
    "# Evaluate Model After  GridSearchCV Tuning"
   ]
  },
  {
   "cell_type": "code",
   "execution_count": 176,
   "id": "4a037a51",
   "metadata": {},
   "outputs": [
    {
     "data": {
      "text/plain": [
       "0.7801393728222996"
      ]
     },
     "execution_count": 176,
     "metadata": {},
     "output_type": "execute_result"
    }
   ],
   "source": [
    "gscv_Dtc.best_score_"
   ]
  },
  {
   "cell_type": "code",
   "execution_count": 177,
   "id": "fb083462",
   "metadata": {},
   "outputs": [
    {
     "data": {
      "text/plain": [
       "DecisionTreeClassifier()"
      ]
     },
     "execution_count": 177,
     "metadata": {},
     "output_type": "execute_result"
    }
   ],
   "source": [
    "gscv_Dtc.best_estimator_"
   ]
  },
  {
   "cell_type": "code",
   "execution_count": null,
   "id": "3f898661",
   "metadata": {},
   "outputs": [],
   "source": []
  }
 ],
 "metadata": {
  "kernelspec": {
   "display_name": "Python 3 (ipykernel)",
   "language": "python",
   "name": "python3"
  },
  "language_info": {
   "codemirror_mode": {
    "name": "ipython",
    "version": 3
   },
   "file_extension": ".py",
   "mimetype": "text/x-python",
   "name": "python",
   "nbconvert_exporter": "python",
   "pygments_lexer": "ipython3",
   "version": "3.9.7"
  }
 },
 "nbformat": 4,
 "nbformat_minor": 5
}
